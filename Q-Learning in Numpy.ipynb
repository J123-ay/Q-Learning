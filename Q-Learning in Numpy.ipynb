{
  "nbformat": 4,
  "nbformat_minor": 0,
  "metadata": {
    "colab": {
      "name": "Q-Learning in TensorFlow.ipynb",
      "version": "0.3.2",
      "provenance": []
    },
    "kernelspec": {
      "display_name": "Python 3",
      "language": "python",
      "name": "python3"
    }
  },
  "cells": [
    {
      "metadata": {
        "id": "PsFMrS7GXF_V",
        "colab_type": "text"
      },
      "cell_type": "markdown",
      "source": [
        "# Q-Learning \n",
        "<small> **using numpy** </small>"
      ]
    },
    {
      "metadata": {
        "id": "aI3WtdM2ac-z",
        "colab_type": "code",
        "outputId": "cd0185b7-9c17-422d-d4e7-3a602005ba15",
        "colab": {
          "base_uri": "https://localhost:8080/",
          "height": 402
        }
      },
      "cell_type": "code",
      "source": [
        "!pip install gym"
      ],
      "execution_count": 1,
      "outputs": [
        {
          "output_type": "stream",
          "text": [
            "Collecting gym\n",
            "\u001b[?25l  Downloading https://files.pythonhosted.org/packages/d4/22/4ff09745ade385ffe707fb5f053548f0f6a6e7d5e98a2b9d6c07f5b931a7/gym-0.10.9.tar.gz (1.5MB)\n",
            "\u001b[K    100% |████████████████████████████████| 1.5MB 7.6MB/s \n",
            "\u001b[?25hRequirement already satisfied: scipy in /usr/local/lib/python3.6/dist-packages (from gym) (1.1.0)\n",
            "Requirement already satisfied: numpy>=1.10.4 in /usr/local/lib/python3.6/dist-packages (from gym) (1.14.6)\n",
            "Requirement already satisfied: requests>=2.0 in /usr/local/lib/python3.6/dist-packages (from gym) (2.18.4)\n",
            "Requirement already satisfied: six in /usr/local/lib/python3.6/dist-packages (from gym) (1.11.0)\n",
            "Collecting pyglet>=1.2.0 (from gym)\n",
            "\u001b[?25l  Downloading https://files.pythonhosted.org/packages/1c/fc/dad5eaaab68f0c21e2f906a94ddb98175662cc5a654eee404d59554ce0fa/pyglet-1.3.2-py2.py3-none-any.whl (1.0MB)\n",
            "\u001b[K    100% |████████████████████████████████| 1.0MB 11.2MB/s \n",
            "\u001b[?25hRequirement already satisfied: chardet<3.1.0,>=3.0.2 in /usr/local/lib/python3.6/dist-packages (from requests>=2.0->gym) (3.0.4)\n",
            "Requirement already satisfied: urllib3<1.23,>=1.21.1 in /usr/local/lib/python3.6/dist-packages (from requests>=2.0->gym) (1.22)\n",
            "Requirement already satisfied: idna<2.7,>=2.5 in /usr/local/lib/python3.6/dist-packages (from requests>=2.0->gym) (2.6)\n",
            "Requirement already satisfied: certifi>=2017.4.17 in /usr/local/lib/python3.6/dist-packages (from requests>=2.0->gym) (2018.10.15)\n",
            "Requirement already satisfied: future in /usr/local/lib/python3.6/dist-packages (from pyglet>=1.2.0->gym) (0.16.0)\n",
            "Building wheels for collected packages: gym\n",
            "  Running setup.py bdist_wheel for gym ... \u001b[?25l-\b \b\\\b \b|\b \b/\b \bdone\n",
            "\u001b[?25h  Stored in directory: /root/.cache/pip/wheels/6c/3a/0e/b86dee98876bb56cdb482cc1f72201035e46d1baf69d10d028\n",
            "Successfully built gym\n",
            "Installing collected packages: pyglet, gym\n",
            "Successfully installed gym-0.10.9 pyglet-1.3.2\n"
          ],
          "name": "stdout"
        }
      ]
    },
    {
      "metadata": {
        "id": "iPV1lKBfaeXG",
        "colab_type": "code",
        "colab": {}
      },
      "cell_type": "code",
      "source": [
        "import gym\n",
        "import numpy as np\n",
        "import time"
      ],
      "execution_count": 0,
      "outputs": []
    },
    {
      "metadata": {
        "id": "WVXB2C84eX2P",
        "colab_type": "code",
        "colab": {
          "base_uri": "https://localhost:8080/",
          "height": 72
        },
        "outputId": "4eedbbe5-ba42-4d1a-b68f-c51dffacc504"
      },
      "cell_type": "code",
      "source": [
        "# Create the env\n",
        "env = gym.make('FrozenLake-v0')"
      ],
      "execution_count": 3,
      "outputs": [
        {
          "output_type": "stream",
          "text": [
            "/usr/local/lib/python3.6/dist-packages/gym/envs/registration.py:14: PkgResourcesDeprecationWarning: Parameters to load are deprecated.  Call .resolve and .require separately.\n",
            "  result = entry_point.load(False)\n"
          ],
          "name": "stderr"
        }
      ]
    },
    {
      "metadata": {
        "id": "KJ1qQlgbhExJ",
        "colab_type": "code",
        "colab": {}
      },
      "cell_type": "code",
      "source": [
        "# Getting the action space and state space\n",
        "action_size = env.action_space.n\n",
        "state_size = env.observation_space.n"
      ],
      "execution_count": 0,
      "outputs": []
    },
    {
      "metadata": {
        "id": "rg1E2ukChtTb",
        "colab_type": "code",
        "colab": {
          "base_uri": "https://localhost:8080/",
          "height": 295
        },
        "outputId": "0e484c84-17ea-42e0-f0d4-0c82aad9dbc6"
      },
      "cell_type": "code",
      "source": [
        "# Initializing the Q-table with zeros\n",
        "qtable = np.zeros((state_size, action_size))\n",
        "print (qtable)"
      ],
      "execution_count": 5,
      "outputs": [
        {
          "output_type": "stream",
          "text": [
            "[[0. 0. 0. 0.]\n",
            " [0. 0. 0. 0.]\n",
            " [0. 0. 0. 0.]\n",
            " [0. 0. 0. 0.]\n",
            " [0. 0. 0. 0.]\n",
            " [0. 0. 0. 0.]\n",
            " [0. 0. 0. 0.]\n",
            " [0. 0. 0. 0.]\n",
            " [0. 0. 0. 0.]\n",
            " [0. 0. 0. 0.]\n",
            " [0. 0. 0. 0.]\n",
            " [0. 0. 0. 0.]\n",
            " [0. 0. 0. 0.]\n",
            " [0. 0. 0. 0.]\n",
            " [0. 0. 0. 0.]\n",
            " [0. 0. 0. 0.]]\n"
          ],
          "name": "stdout"
        }
      ]
    },
    {
      "metadata": {
        "id": "x48AHCieh6L1",
        "colab_type": "code",
        "colab": {}
      },
      "cell_type": "code",
      "source": [
        "# Specify the hyperparameters\n",
        "episodes = 20000\n",
        "lr = 0.8\n",
        "max_steps = 99\n",
        "gamma = 0.95\n",
        "\n",
        "# Exploration Parameters\n",
        "\n",
        "## Exploration rate\n",
        "epsilon = 1.0\n",
        "\n",
        "## Exploration probability at start\n",
        "max_epsilon = 1.0\n",
        "\n",
        "## Minimum exploration probability\n",
        "min_epsilon = 0.01\n",
        "\n",
        "## Decay rate for exploration\n",
        "decay_rate = 0.005"
      ],
      "execution_count": 0,
      "outputs": []
    },
    {
      "metadata": {
        "id": "3Rsj8EIZh_hW",
        "colab_type": "text"
      },
      "cell_type": "markdown",
      "source": [
        "<img src='https://github.com/iArunava/Q-Learning/blob/master/assets/qtable_algo.png?raw=1' />"
      ]
    },
    {
      "metadata": {
        "id": "VS3T4FpFlJrh",
        "colab_type": "code",
        "colab": {
          "base_uri": "https://localhost:8080/",
          "height": 52
        },
        "outputId": "daf426b7-367b-41d2-aec4-f5abbaf26a44"
      },
      "cell_type": "code",
      "source": [
        "# Implement the Q-Learning Algorithm\n",
        "rewards = []\n",
        "\n",
        "#2\n",
        "for episode in range(episodes):\n",
        "    state = env.reset()\n",
        "    step = 0\n",
        "    done = False\n",
        "    total_rewards = 0\n",
        "    start = time.time()\n",
        "    \n",
        "    for step in range(max_steps):\n",
        "        #3\n",
        "        exp_exp_tradeoff = np.random.uniform(0, 1)\n",
        "        if exp_exp_tradeoff > epsilon:\n",
        "            action = np.argmax(qtable[state, :])\n",
        "        else:\n",
        "            action = env.action_space.sample()\n",
        "        \n",
        "        #4\n",
        "        # Take the action\n",
        "        new_state, reward, done, info = env.step(action)\n",
        "        \n",
        "        #5\n",
        "        # Update Q(s, a) := Q(s, a) + lr[R(s, a) + gamma * max Q(s`, a`) - Q(s, a)]\n",
        "        qtable[state, action] = qtable[state, action] + lr \\\n",
        "                                * (reward + (gamma * np.max(qtable[new_state, :])) \\\n",
        "                                - qtable[state, action])\n",
        "        \n",
        "        #print (reward, epsilon)\n",
        "        total_rewards += reward\n",
        "        \n",
        "        state = new_state\n",
        "        \n",
        "        if done:\n",
        "            break\n",
        "    \n",
        "    end = time.time()\n",
        "    \n",
        "    # Reduce epsilon\n",
        "    epsilon = min_epsilon + (max_epsilon - min_epsilon) * np.exp(-decay_rate * episode)\n",
        "    rewards.append(total_rewards)\n",
        "    \n",
        "    #print ('Episode: {}/{} | Rewards: {:.3f} | Time taken: {:.3f}'\n",
        "    #        .format(episode+1, episodes, total_rewards, (end-start)))\n",
        "    \n",
        "print ('Agent Trained Successfully!!')\n",
        "print ('Rewards over time: {:.3f}'.format(sum(rewards) / episodes))\n",
        "            "
      ],
      "execution_count": 37,
      "outputs": [
        {
          "output_type": "stream",
          "text": [
            "Agent Trained Successfully!!\n",
            "Rewards over time: 0.495\n"
          ],
          "name": "stdout"
        }
      ]
    },
    {
      "metadata": {
        "id": "JHDFdcXtq5c_",
        "colab_type": "code",
        "colab": {
          "base_uri": "https://localhost:8080/",
          "height": 295
        },
        "outputId": "13692243-f565-44de-9b47-751139371266"
      },
      "cell_type": "code",
      "source": [
        "qtable"
      ],
      "execution_count": 29,
      "outputs": [
        {
          "output_type": "execute_result",
          "data": {
            "text/plain": [
              "array([[9.26621699e-02, 5.42873780e-02, 2.44208824e-02, 6.23859391e-02],\n",
              "       [5.46661889e-03, 4.66084645e-03, 1.02101386e-02, 6.44900402e-02],\n",
              "       [4.77152932e-03, 4.68749935e-03, 8.50547401e-03, 5.10734453e-02],\n",
              "       [3.10981617e-03, 2.09999100e-04, 1.66867498e-03, 3.27656119e-02],\n",
              "       [1.60550002e-01, 3.26512840e-02, 2.57688882e-02, 9.31344766e-03],\n",
              "       [0.00000000e+00, 0.00000000e+00, 0.00000000e+00, 0.00000000e+00],\n",
              "       [2.25319529e-05, 2.07313769e-04, 5.74040035e-02, 1.41594589e-04],\n",
              "       [0.00000000e+00, 0.00000000e+00, 0.00000000e+00, 0.00000000e+00],\n",
              "       [2.77030304e-02, 7.24366663e-04, 2.60690062e-02, 2.75082725e-01],\n",
              "       [6.73103373e-04, 2.90987847e-01, 3.04447035e-02, 1.26541657e-02],\n",
              "       [1.77090576e-01, 1.01038374e-03, 1.30240987e-05, 2.52105386e-02],\n",
              "       [0.00000000e+00, 0.00000000e+00, 0.00000000e+00, 0.00000000e+00],\n",
              "       [0.00000000e+00, 0.00000000e+00, 0.00000000e+00, 0.00000000e+00],\n",
              "       [1.02489228e-01, 2.23222021e-02, 2.93832350e-01, 2.88074061e-01],\n",
              "       [3.43043743e-01, 8.98221162e-01, 4.08192156e-01, 3.22322145e-01],\n",
              "       [0.00000000e+00, 0.00000000e+00, 0.00000000e+00, 0.00000000e+00]])"
            ]
          },
          "metadata": {
            "tags": []
          },
          "execution_count": 29
        }
      ]
    },
    {
      "metadata": {
        "id": "EJapVGPDrXaq",
        "colab_type": "code",
        "colab": {
          "base_uri": "https://localhost:8080/",
          "height": 712
        },
        "outputId": "31125ec5-a141-4d49-b69e-6f019597c83c"
      },
      "cell_type": "code",
      "source": [
        "# Use the Q-Table to play\n",
        "\n",
        "env.reset()\n",
        "\n",
        "for episode in range(5):\n",
        "    state = env.reset()\n",
        "    step = 0\n",
        "    done = False\n",
        "    \n",
        "    print ('******************************************')\n",
        "    print ('Episode ', episode)\n",
        "    \n",
        "    for step in range(max_steps):\n",
        "        action = np.argmax(qtable[state, :])\n",
        "        new_state, reward, done, info = env.step(action)\n",
        "        \n",
        "        if done or step == max_steps:\n",
        "            env.render()\n",
        "            print ('Number of steps: {}'.format(step+1))\n",
        "            break\n",
        "            \n",
        "        state = new_state\n",
        "        \n",
        "env.close()"
      ],
      "execution_count": 36,
      "outputs": [
        {
          "output_type": "stream",
          "text": [
            "******************************************\n",
            "Episode  0\n",
            "  (Down)\n",
            "SFFF\n",
            "FHFH\n",
            "FFFH\n",
            "HFF\u001b[41mG\u001b[0m\n",
            "Number of steps: 75\n",
            "******************************************\n",
            "Episode  1\n",
            "  (Down)\n",
            "SFFF\n",
            "FHFH\n",
            "FFFH\n",
            "HFF\u001b[41mG\u001b[0m\n",
            "Number of steps: 12\n",
            "******************************************\n",
            "Episode  2\n",
            "  (Down)\n",
            "SFFF\n",
            "FHFH\n",
            "FFFH\n",
            "HFF\u001b[41mG\u001b[0m\n",
            "Number of steps: 11\n",
            "******************************************\n",
            "Episode  3\n",
            "  (Down)\n",
            "SFFF\n",
            "FHFH\n",
            "FFFH\n",
            "HFF\u001b[41mG\u001b[0m\n",
            "Number of steps: 28\n",
            "******************************************\n",
            "Episode  4\n",
            "  (Down)\n",
            "SFFF\n",
            "FHFH\n",
            "FFFH\n",
            "HFF\u001b[41mG\u001b[0m\n",
            "Number of steps: 58\n"
          ],
          "name": "stdout"
        }
      ]
    }
  ]
}